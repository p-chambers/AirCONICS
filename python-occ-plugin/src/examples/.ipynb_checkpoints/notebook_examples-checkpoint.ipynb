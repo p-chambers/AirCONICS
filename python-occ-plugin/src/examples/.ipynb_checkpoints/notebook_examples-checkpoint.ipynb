{
 "cells": [
  {
   "cell_type": "markdown",
   "metadata": {},
   "source": [
    "# Notebook for testing Airconics examples "
   ]
  },
  {
   "cell_type": "markdown",
   "metadata": {},
   "source": [
    "Notes:\n",
    "-------\n",
    "* The GUI application in python-occ requires some Python-QT binding. I am using PySide, but PyQt4 should work\n"
   ]
  },
  {
   "cell_type": "code",
   "execution_count": 1,
   "metadata": {
    "collapsed": true
   },
   "outputs": [],
   "source": [
    "import airconics"
   ]
  },
  {
   "cell_type": "code",
   "execution_count": 2,
   "metadata": {
    "collapsed": false
   },
   "outputs": [
    {
     "name": "stdout",
     "output_type": "stream",
     "text": [
      "PyQt4 not found - using PySide\n"
     ]
    }
   ],
   "source": [
    "# Initialise the display\n",
    "from OCC.Display.SimpleGui import init_display\n",
    "display, start_display, add_menu, add_function_to_menu = init_display()"
   ]
  },
  {
   "cell_type": "code",
   "execution_count": null,
   "metadata": {
    "collapsed": true
   },
   "outputs": [],
   "source": [
    "# This bit initialises the GUI in its own window. Note the 'time' bit is to workaround an ipython\n",
    "# Notebook bug which prevents 'run all' from working in ipython when using '%' magics:\n",
    "# see here for more info https://github.com/ipython/ipython/issues/5629\n",
    "import time\n",
    "%gui qt\n",
    "time.sleep(5)\n",
    "print('hello')"
   ]
  },
  {
   "cell_type": "code",
   "execution_count": 1,
   "metadata": {
    "collapsed": false
   },
   "outputs": [
    {
     "name": "stdout",
     "output_type": "stream",
     "text": [
      "Help on built-in function sleep in module time:\n",
      "\n",
      "sleep(...)\n",
      "    sleep(seconds)\n",
      "    \n",
      "    Delay execution for a given number of seconds.  The argument may be\n",
      "    a floating point number for subsecond precision.\n",
      "\n"
     ]
    }
   ],
   "source": []
  },
  {
   "cell_type": "code",
   "execution_count": null,
   "metadata": {
    "collapsed": false
   },
   "outputs": [],
   "source": [
    "# Note these sizing variables aren't used yet\n",
    "LEPoint = [0., 0., 0.] \n",
    "ChordLength = 1\n",
    "Rotation = 0\n",
    "Twist = 0\n",
    "\n",
    "AirfoilSeligName = 'dae11'\n",
    "# SmoothingPasses = 1   #TODO\n",
    "\n",
    "# Instantiate class to set up a generic airfoil with these basic parameters\n",
    "Af = airconics.primitives.Airfoil(LEPoint, ChordLength, Rotation, Twist,\n",
    "                        SeligProfile=AirfoilSeligName)\n",
    "display.DisplayShape(Af.shape, update=True);"
   ]
  },
  {
   "cell_type": "code",
   "execution_count": null,
   "metadata": {
    "collapsed": false
   },
   "outputs": [],
   "source": [
    "# Add another one (just to test display):\n",
    "Af2 = airconics.primitives.Airfoil(LEPoint, ChordLength, Rotation, Twist,\n",
    "                        SeligProfile='b707a')\n",
    "display.DisplayShape(Af2.shape, update=True, color='BLUE');"
   ]
  },
  {
   "cell_type": "code",
   "execution_count": null,
   "metadata": {
    "collapsed": false
   },
   "outputs": [],
   "source": [
    "# Add another one (just to test display):\n",
    "Af3 = airconics.primitives.Airfoil(LEPoint, ChordLength, Rotation, Twist,\n",
    "                        SeligProfile='naca0024')\n",
    "display.DisplayShape(Af3.shape, update=True, color='GREEN');"
   ]
  },
  {
   "cell_type": "code",
   "execution_count": null,
   "metadata": {
    "collapsed": true
   },
   "outputs": [],
   "source": []
  },
  {
   "cell_type": "code",
   "execution_count": null,
   "metadata": {
    "collapsed": true
   },
   "outputs": [],
   "source": []
  },
  {
   "cell_type": "code",
   "execution_count": null,
   "metadata": {
    "collapsed": true
   },
   "outputs": [],
   "source": []
  },
  {
   "cell_type": "code",
   "execution_count": null,
   "metadata": {
    "collapsed": true
   },
   "outputs": [],
   "source": []
  }
 ],
 "metadata": {
  "kernelspec": {
   "display_name": "Python 2",
   "language": "python",
   "name": "python2"
  },
  "language_info": {
   "codemirror_mode": {
    "name": "ipython",
    "version": 2
   },
   "file_extension": ".py",
   "mimetype": "text/x-python",
   "name": "python",
   "nbconvert_exporter": "python",
   "pygments_lexer": "ipython2",
   "version": "2.7.6"
  }
 },
 "nbformat": 4,
 "nbformat_minor": 0
}
